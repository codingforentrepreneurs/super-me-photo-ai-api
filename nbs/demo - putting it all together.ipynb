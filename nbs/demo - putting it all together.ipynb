{
 "cells": [
  {
   "cell_type": "code",
   "execution_count": 163,
   "metadata": {},
   "outputs": [],
   "source": [
    "import httpx\n",
    "import pathlib\n",
    "from decouple import config"
   ]
  },
  {
   "cell_type": "code",
   "execution_count": 164,
   "metadata": {},
   "outputs": [],
   "source": [
    "NBS_DIR = pathlib.Path().resolve()\n",
    "REPO_DIR = NBS_DIR.parent\n",
    "DATA_DIR = REPO_DIR / \"data\"\n",
    "GENERATED_DIR = DATA_DIR / \"generated\"\n",
    "GENERATED_DIR.mkdir(exist_ok=True, parents=True)\n"
   ]
  },
  {
   "cell_type": "code",
   "execution_count": 165,
   "metadata": {},
   "outputs": [],
   "source": [
    "prompt = input(\"What is your prompt?\\n\")\n",
    "prompt_final = f\"a photo of TOK adult man {prompt}\""
   ]
  },
  {
   "cell_type": "code",
   "execution_count": 166,
   "metadata": {},
   "outputs": [
    {
     "data": {
      "text/plain": [
       "'a photo of TOK adult man recording a video'"
      ]
     },
     "execution_count": 166,
     "metadata": {},
     "output_type": "execute_result"
    }
   ],
   "source": [
    "prompt_final"
   ]
  },
  {
   "cell_type": "code",
   "execution_count": 167,
   "metadata": {},
   "outputs": [
    {
     "data": {
      "text/plain": [
       "{'id': 'dx40raa141rma0cka4g9gqtsfr',\n",
       " 'url': '/predictions/dx40raa141rma0cka4g9gqtsfr',\n",
       " 'status': 'starting'}"
      ]
     },
     "execution_count": 167,
     "metadata": {},
     "output_type": "execute_result"
    }
   ],
   "source": [
    "API_ACCESS_KEY = config('API_ACCESS_KEY')\n",
    "BASE_URL = \"http://127.0.0.1:8000\"\n",
    "\n",
    "headers = {\n",
    "    \"X-API-Key\": API_ACCESS_KEY\n",
    "}\n",
    "endpoint = f\"{BASE_URL}/generate\"\n",
    "res = httpx.post(endpoint, json={'prompt': prompt_final}, headers=headers)\n",
    "res.json()"
   ]
  },
  {
   "cell_type": "code",
   "execution_count": 168,
   "metadata": {},
   "outputs": [
    {
     "name": "stdout",
     "output_type": "stream",
     "text": [
      "dx40raa141rma0cka4g9gqtsfr processing\n",
      "dx40raa141rma0cka4g9gqtsfr processing\n",
      "dx40raa141rma0cka4g9gqtsfr processing\n",
      "dx40raa141rma0cka4g9gqtsfr succeeded\n"
     ]
    }
   ],
   "source": [
    "import time \n",
    "\n",
    "\n",
    "pred_id = res.json().get('id')\n",
    "pred_detail_endpoint = f\"{BASE_URL}/predictions/{pred_id}\"\n",
    "res2 = httpx.get(pred_detail_endpoint, headers=headers)\n",
    "pred_data = res2.json()\n",
    "pred_status = pred_data.get('status')\n",
    "\n",
    "max_attempts = 10\n",
    "attempts = 0\n",
    "ready_and_done = pred_status == 'succeeded'\n",
    "while pred_status != 'succeeded' and max_attempts > attempts:\n",
    "    _res = httpx.get(pred_detail_endpoint, headers=headers)\n",
    "    pred_data = _res.json()\n",
    "    pred_status = pred_data.get('status')\n",
    "    print(pred_id, pred_status)\n",
    "    if pred_status == \"succeeded\":\n",
    "        ready_and_done = True\n",
    "        break\n",
    "    attempts += 1\n",
    "    time.sleep(5)\n",
    "\n"
   ]
  },
  {
   "cell_type": "code",
   "execution_count": 169,
   "metadata": {},
   "outputs": [],
   "source": [
    "def download_image(url, obj_id):\n",
    "    fname = pathlib.Path(url).name\n",
    "    outpath = GENERATED_DIR / obj_id / fname\n",
    "    outpath.parent.mkdir(exist_ok=True, parents=True)\n",
    "    if outpath.exists():\n",
    "        return outpath\n",
    "    res = httpx.get(url, headers=headers)\n",
    "    res.raise_for_status()\n",
    "    with open(outpath, 'wb') as f:\n",
    "        f.write(res.content)\n",
    "    return outpath"
   ]
  },
  {
   "cell_type": "code",
   "execution_count": 170,
   "metadata": {},
   "outputs": [
    {
     "data": {
      "text/plain": [
       "[PosixPath('/Users/cfe/Dev/superme-api/data/generated/dx40raa141rma0cka4g9gqtsfr/0.jpg'),\n",
       " PosixPath('/Users/cfe/Dev/superme-api/data/generated/dx40raa141rma0cka4g9gqtsfr/1.jpg')]"
      ]
     },
     "execution_count": 170,
     "metadata": {},
     "output_type": "execute_result"
    }
   ],
   "source": [
    "out_paths = []\n",
    "if ready_and_done:\n",
    "    files = pred_data.get('files')\n",
    "    obj_id = pred_data.get('id')\n",
    "    for file_path in files:\n",
    "        endpoint = f\"{BASE_URL}{file_path}\"\n",
    "        out_path = download_image(endpoint, obj_id)\n",
    "        if out_path:\n",
    "            out_paths.append(out_path)\n",
    "out_paths"
   ]
  },
  {
   "cell_type": "code",
   "execution_count": 171,
   "metadata": {},
   "outputs": [],
   "source": [
    "from PIL import Image\n",
    "\n",
    "for path in out_paths:\n",
    "    img = Image.open(path)\n",
    "    img.show()"
   ]
  },
  {
   "cell_type": "code",
   "execution_count": null,
   "metadata": {},
   "outputs": [],
   "source": []
  }
 ],
 "metadata": {
  "kernelspec": {
   "display_name": "venv",
   "language": "python",
   "name": "python3"
  },
  "language_info": {
   "codemirror_mode": {
    "name": "ipython",
    "version": 3
   },
   "file_extension": ".py",
   "mimetype": "text/x-python",
   "name": "python",
   "nbconvert_exporter": "python",
   "pygments_lexer": "ipython3",
   "version": "3.13.0"
  }
 },
 "nbformat": 4,
 "nbformat_minor": 2
}
