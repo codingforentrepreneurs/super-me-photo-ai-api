{
 "cells": [
  {
   "cell_type": "code",
   "execution_count": 11,
   "metadata": {},
   "outputs": [],
   "source": [
    "import httpx\n",
    "from decouple import config\n",
    "\n",
    "API_ACCESS_KEY = config('API_ACCESS_KEY')\n",
    "\n",
    "headers = {\n",
    "    \"X-API-Key\": API_ACCESS_KEY\n",
    "}\n",
    "\n",
    "endpoint = \"http://127.0.0.1:8000/generate\""
   ]
  },
  {
   "cell_type": "code",
   "execution_count": 12,
   "metadata": {},
   "outputs": [],
   "source": [
    "prompt = \"a photo of TOK adult man dressed up for a pro photo shoot\"\n",
    "res = httpx.post(endpoint, json={\"prompt\":prompt}, headers=headers)"
   ]
  },
  {
   "cell_type": "code",
   "execution_count": 13,
   "metadata": {},
   "outputs": [
    {
     "data": {
      "text/plain": [
       "(200,\n",
       " {'id': 'erwnxx14n9rme0cka2zt8egd4m',\n",
       "  'url': '/predictions/erwnxx14n9rme0cka2zt8egd4m',\n",
       "  'status': 'starting'})"
      ]
     },
     "execution_count": 13,
     "metadata": {},
     "output_type": "execute_result"
    }
   ],
   "source": [
    "res.status_code, res.json()"
   ]
  },
  {
   "cell_type": "code",
   "execution_count": null,
   "metadata": {},
   "outputs": [],
   "source": []
  }
 ],
 "metadata": {
  "kernelspec": {
   "display_name": "venv",
   "language": "python",
   "name": "python3"
  },
  "language_info": {
   "codemirror_mode": {
    "name": "ipython",
    "version": 3
   },
   "file_extension": ".py",
   "mimetype": "text/x-python",
   "name": "python",
   "nbconvert_exporter": "python",
   "pygments_lexer": "ipython3",
   "version": "3.13.0"
  }
 },
 "nbformat": 4,
 "nbformat_minor": 2
}
