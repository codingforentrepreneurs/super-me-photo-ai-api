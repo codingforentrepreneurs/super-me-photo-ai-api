{
 "cells": [
  {
   "cell_type": "code",
   "execution_count": 33,
   "metadata": {},
   "outputs": [],
   "source": [
    "import httpx\n",
    "import pathlib\n",
    "from decouple import config"
   ]
  },
  {
   "cell_type": "code",
   "execution_count": 34,
   "metadata": {},
   "outputs": [],
   "source": [
    "NBS_DIR = pathlib.Path().resolve()\n",
    "REPO_DIR = NBS_DIR.parent\n",
    "DATA_DIR = REPO_DIR / \"data\"\n",
    "GENERATED_DIR = DATA_DIR / \"generated\"\n",
    "GENERATED_DIR.mkdir(exist_ok=True, parents=True)\n"
   ]
  },
  {
   "cell_type": "code",
   "execution_count": 35,
   "metadata": {},
   "outputs": [],
   "source": [
    "API_ACCESS_KEY = config('API_ACCESS_KEY')\n",
    "\n",
    "headers = {\n",
    "    \"X-API-Key\": API_ACCESS_KEY\n",
    "}\n",
    "endpoint = \"http://127.0.0.1:8000/predictions\"\n",
    "preds_res = httpx.get(endpoint, \n",
    "                params={\"status\": \"succeeded\"},\n",
    "                headers=headers)\n",
    "preds_json = preds_res.json()\n",
    "# preds_json"
   ]
  },
  {
   "cell_type": "code",
   "execution_count": null,
   "metadata": {},
   "outputs": [
    {
     "name": "stdout",
     "output_type": "stream",
     "text": [
      "{'id': '6bh537jtehrm80ck8twavy1kk4', 'url': '/predictions/6bh537jtehrm80ck8twavy1kk4', 'model': 'codingforentrepreneurs/superme-justin-v1', 'version': '4bc2a39fa73d29cd531c57ad4f56bede13378ce3da2f6f517684b0b61bd192d7', 'created_at': '2024-11-19T23:18:27.188000Z', 'completed_at': '2024-11-19T23:18:36.558553Z', 'files': ['/predictions/6bh537jtehrm80ck8twavy1kk4/files/0.webp'], 'num_outputs': 1}\n",
      "{'id': 'wmpxh6h16srma0ck8tw97d0xw0', 'url': '/predictions/wmpxh6h16srma0ck8tw97d0xw0', 'model': 'codingforentrepreneurs/superme-justin-v1', 'version': '4bc2a39fa73d29cd531c57ad4f56bede13378ce3da2f6f517684b0b61bd192d7', 'created_at': '2024-11-19T23:18:12.534000Z', 'completed_at': '2024-11-19T23:18:22.452108Z', 'files': ['/predictions/wmpxh6h16srma0ck8tw97d0xw0/files/0.webp'], 'num_outputs': 1}\n",
      "{'id': 'jyapp0mmbdrme0ck8tvay6dcqr', 'url': '/predictions/jyapp0mmbdrme0ck8tvay6dcqr', 'model': 'codingforentrepreneurs/superme-justin-v1', 'version': '4bc2a39fa73d29cd531c57ad4f56bede13378ce3da2f6f517684b0b61bd192d7', 'created_at': '2024-11-19T23:16:30.939000Z', 'completed_at': '2024-11-19T23:16:43.197060Z', 'files': ['/predictions/jyapp0mmbdrme0ck8tvay6dcqr/files/0.webp'], 'num_outputs': 1}\n",
      "{'id': 'f0jyc0raj5rm80ck8tps7mc9a8', 'url': '/predictions/f0jyc0raj5rm80ck8tps7mc9a8', 'model': 'codingforentrepreneurs/superme-justin-v1', 'version': '4bc2a39fa73d29cd531c57ad4f56bede13378ce3da2f6f517684b0b61bd192d7', 'created_at': '2024-11-19T23:06:05.841000Z', 'completed_at': '2024-11-19T23:06:17.810626Z', 'files': ['/predictions/f0jyc0raj5rm80ck8tps7mc9a8/files/0.webp'], 'num_outputs': 1}\n",
      "{'id': 'a48ntx8e3drma0ck8tpa4yw5z0', 'url': '/predictions/a48ntx8e3drma0ck8tpa4yw5z0', 'model': 'codingforentrepreneurs/superme-justin-v1', 'version': '4bc2a39fa73d29cd531c57ad4f56bede13378ce3da2f6f517684b0b61bd192d7', 'created_at': '2024-11-19T23:05:01.211000Z', 'completed_at': '2024-11-19T23:05:12.398152Z', 'files': ['/predictions/a48ntx8e3drma0ck8tpa4yw5z0/files/0.webp'], 'num_outputs': 1}\n",
      "{'id': 'qsjzvq0rg5rmc0ck8tnsyb1zbg', 'url': '/predictions/qsjzvq0rg5rmc0ck8tnsyb1zbg', 'model': 'codingforentrepreneurs/superme-justin-v1', 'version': '4bc2a39fa73d29cd531c57ad4f56bede13378ce3da2f6f517684b0b61bd192d7', 'created_at': '2024-11-19T23:03:58.337000Z', 'completed_at': '2024-11-19T23:04:12.820451Z', 'files': ['/predictions/qsjzvq0rg5rmc0ck8tnsyb1zbg/files/0.jpg'], 'num_outputs': 1}\n"
     ]
    }
   ],
   "source": [
    "BASE_URL=\"http://127.0.0.1:8000\"\n",
    "for pred in preds_json:\n",
    "    path = pred.get('url')\n",
    "    endpoint = f\"{BASE_URL}{path}\"\n",
    "    res = httpx.get(endpoint, headers=headers)\n",
    "    if res.status_code not in range(200, 299):\n",
    "        continue\n",
    "    data = res.json()\n",
    "    files = data.get('files') or None\n",
    "    if files is None:\n",
    "        continue\n",
    "    obj_id = data.get('id')\n",
    "    with httpx.Client() as client:\n",
    "        for i, file_path in enumerate(files):\n",
    "            fname = pathlib.Path(file_path).name\n",
    "            outpath = GENERATED_DIR / obj_id / fname\n",
    "            outpath.parent.mkdir(exist_ok=True, parents=True)\n",
    "            if outpath.exists():\n",
    "                continue\n",
    "            url = f\"{BASE_URL}{file_path}\"\n",
    "            res = client.get(url, headers=headers)\n",
    "            res.raise_for_status()\n",
    "            with open(outpath, 'wb') as f:\n",
    "                f.write(res.content)"
   ]
  },
  {
   "cell_type": "code",
   "execution_count": null,
   "metadata": {},
   "outputs": [],
   "source": []
  }
 ],
 "metadata": {
  "kernelspec": {
   "display_name": "venv",
   "language": "python",
   "name": "python3"
  },
  "language_info": {
   "codemirror_mode": {
    "name": "ipython",
    "version": 3
   },
   "file_extension": ".py",
   "mimetype": "text/x-python",
   "name": "python",
   "nbconvert_exporter": "python",
   "pygments_lexer": "ipython3",
   "version": "3.13.0"
  }
 },
 "nbformat": 4,
 "nbformat_minor": 2
}
