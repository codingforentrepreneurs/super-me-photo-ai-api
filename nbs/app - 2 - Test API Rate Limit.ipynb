{
 "cells": [
  {
   "cell_type": "code",
   "execution_count": 78,
   "metadata": {},
   "outputs": [
    {
     "data": {
      "text/plain": [
       "(200, {'Hello': 'World'}, None)"
      ]
     },
     "execution_count": 78,
     "metadata": {},
     "output_type": "execute_result"
    }
   ],
   "source": [
    "import httpx\n",
    "from decouple import config\n",
    "\n",
    "API_ACCESS_KEY = config('API_ACCESS_KEY')\n",
    "\n",
    "headers = {\n",
    "    \"X-API-Key\": API_ACCESS_KEY\n",
    "}\n",
    "endpoint = \"http://127.0.0.1:8000/\"\n",
    "res = httpx.get(endpoint, headers=headers)\n",
    "res.status_code, res.json(), res.headers.get('Retry-After')"
   ]
  },
  {
   "cell_type": "code",
   "execution_count": 82,
   "metadata": {},
   "outputs": [
    {
     "data": {
      "text/plain": [
       "[{'id': 'erwnxx14n9rme0cka2zt8egd4m',\n",
       "  'url': '/predictions/erwnxx14n9rme0cka2zt8egd4m',\n",
       "  'status': 'processing',\n",
       "  'created_at': '2024-11-21T22:02:04.330000Z',\n",
       "  'started_at': None,\n",
       "  'completed_at': None}]"
      ]
     },
     "execution_count": 82,
     "metadata": {},
     "output_type": "execute_result"
    }
   ],
   "source": [
    "API_ACCESS_KEY = config('API_ACCESS_KEY')\n",
    "\n",
    "headers = {\n",
    "    \"X-API-Key\": API_ACCESS_KEY\n",
    "}\n",
    "endpoint = \"http://127.0.0.1:8000/processing\"\n",
    "preds_res = httpx.get(endpoint, headers=headers)\n",
    "preds_json = preds_res.json()\n",
    "preds_json"
   ]
  },
  {
   "cell_type": "code",
   "execution_count": null,
   "metadata": {},
   "outputs": [
    {
     "data": {
      "text/plain": [
       "200"
      ]
     },
     "execution_count": 71,
     "metadata": {},
     "output_type": "execute_result"
    }
   ],
   "source": [
    "API_ACCESS_KEY = config('API_ACCESS_KEY')\n",
    "\n",
    "headers = {\n",
    "    \"X-API-Key\": API_ACCESS_KEY\n",
    "}\n",
    "# endpoint = \"http://127.0.0.1:8000/predictions\"\n",
    "recent_url = preds_json[0].get('url')\n",
    "if not recent_url.startswith('/'):\n",
    "    recent_url = f\"/{recent_url}\"\n",
    "detail_url = f\"http://127.0.0.1:8000{recent_url}\"\n",
    "res = httpx.get(detail_url, headers=headers)\n",
    "res.status_code \n",
    "res.json()"
   ]
  },
  {
   "cell_type": "code",
   "execution_count": 77,
   "metadata": {},
   "outputs": [
    {
     "name": "stdout",
     "output_type": "stream",
     "text": [
      "{'id': '0gz4bp7byxrm80cka0ybg8dcg4', 'url': '/predictions/0gz4bp7byxrm80cka0ybg8dcg4', 'model': 'codingforentrepreneurs/superme-justin-v1', 'version': '4bc2a39fa73d29cd531c57ad4f56bede13378ce3da2f6f517684b0b61bd192d7', 'created_at': '2024-11-21T19:39:50.135000Z', 'completed_at': '2024-11-21T19:40:09.831417Z', 'files': ['/predictions/0gz4bp7byxrm80cka0ybg8dcg4/file/0.jpg', '/predictions/0gz4bp7byxrm80cka0ybg8dcg4/file/1.jpg'], 'num_outputs': 2}\n",
      "{'id': 'ec5cs38gf5rma0ck9zbv7vgmh0', 'url': '/predictions/ec5cs38gf5rma0ck9zbv7vgmh0', 'model': 'codingforentrepreneurs/superme-justin-v1', 'version': '4bc2a39fa73d29cd531c57ad4f56bede13378ce3da2f6f517684b0b61bd192d7', 'created_at': '2024-11-21T17:48:34.809000Z', 'completed_at': '2024-11-21T17:48:56.744962Z', 'files': [], 'num_outputs': 0}\n",
      "{'id': '361ap7kthxrme0ck9z99j874j0', 'url': '/predictions/361ap7kthxrme0ck9z99j874j0', 'model': 'codingforentrepreneurs/superme-justin-v1', 'version': '4bc2a39fa73d29cd531c57ad4f56bede13378ce3da2f6f517684b0b61bd192d7', 'created_at': '2024-11-21T17:43:34.287000Z', 'completed_at': '2024-11-21T17:43:54.070836Z', 'files': [], 'num_outputs': 0}\n",
      "{'id': 'a70v0907w9rmc0ck9dps4q4dp8', 'url': '/predictions/a70v0907w9rmc0ck9dps4q4dp8', 'model': 'codingforentrepreneurs/superme-justin-v1', 'version': '4bc2a39fa73d29cd531c57ad4f56bede13378ce3da2f6f517684b0b61bd192d7', 'created_at': '2024-11-20T21:14:16.930000Z', 'completed_at': '2024-11-20T21:14:37.487118Z', 'files': [], 'num_outputs': 0}\n",
      "{'id': 'dat0d05k01rma0ck9cn8hs27aw', 'url': '/predictions/dat0d05k01rma0ck9cn8hs27aw', 'model': 'codingforentrepreneurs/superme-justin-v1', 'version': '4bc2a39fa73d29cd531c57ad4f56bede13378ce3da2f6f517684b0b61bd192d7', 'created_at': '2024-11-20T20:01:49.824000Z', 'completed_at': '2024-11-20T20:02:43.935498Z', 'files': [], 'num_outputs': 0}\n",
      "{'id': 'kvyfab334srma0ck9bv9mxdd28', 'url': '/predictions/kvyfab334srma0ck9bv9mxdd28', 'model': 'codingforentrepreneurs/superme-justin-v1', 'version': '4bc2a39fa73d29cd531c57ad4f56bede13378ce3da2f6f517684b0b61bd192d7', 'created_at': '2024-11-20T19:04:41.510000Z', 'completed_at': '2024-11-20T19:05:02.648986Z', 'files': [], 'num_outputs': 0}\n",
      "{'id': '71qwkxhtaxrmc0ck9btsxbb3vg', 'url': '/predictions/71qwkxhtaxrmc0ck9btsxbb3vg', 'model': 'codingforentrepreneurs/superme-justin-v1', 'version': '4bc2a39fa73d29cd531c57ad4f56bede13378ce3da2f6f517684b0b61bd192d7', 'created_at': '2024-11-20T19:03:25.527000Z', 'completed_at': '2024-11-20T19:03:39.214338Z', 'files': [], 'num_outputs': 0}\n",
      "{'id': 'yxwjr9fh41rmc0ck9bprweb6yc', 'url': '/predictions/yxwjr9fh41rmc0ck9bprweb6yc', 'model': 'codingforentrepreneurs/superme-justin-v1', 'version': '4bc2a39fa73d29cd531c57ad4f56bede13378ce3da2f6f517684b0b61bd192d7', 'created_at': '2024-11-20T18:55:28.032000Z', 'completed_at': '2024-11-20T18:56:06.192777Z', 'files': [], 'num_outputs': 0}\n",
      "{'id': '9xbtgae1v5rma0ck8vc9tbvmnm', 'url': '/predictions/9xbtgae1v5rma0ck8vc9tbvmnm', 'model': 'codingforentrepreneurs/superme-justin-v1', 'version': '4bc2a39fa73d29cd531c57ad4f56bede13378ce3da2f6f517684b0b61bd192d7', 'created_at': '2024-11-19T23:53:50.809000Z', 'completed_at': '2024-11-19T23:55:26.259722Z', 'files': [], 'num_outputs': 0}\n",
      "{'id': '0svmxqwzv5rme0ck8vbaqqx980', 'url': '/predictions/0svmxqwzv5rme0ck8vbaqqx980', 'model': 'codingforentrepreneurs/superme-justin-v1', 'version': '4bc2a39fa73d29cd531c57ad4f56bede13378ce3da2f6f517684b0b61bd192d7', 'created_at': '2024-11-19T23:51:31.033000Z', 'completed_at': '2024-11-19T23:53:08.264435Z', 'files': [], 'num_outputs': 0}\n",
      "{'id': 'pzmgmy3tkhrm80ck8tz81ztnyc', 'url': '/predictions/pzmgmy3tkhrm80ck8tz81ztnyc', 'model': 'codingforentrepreneurs/superme-justin-v1', 'version': '4bc2a39fa73d29cd531c57ad4f56bede13378ce3da2f6f517684b0b61bd192d7', 'created_at': '2024-11-19T23:25:08.636000Z', 'completed_at': '2024-11-19T23:25:47.365512Z', 'files': [], 'num_outputs': 0}\n",
      "{'id': '34ma88etbnrmc0ck8twsc8w3xm', 'url': '/predictions/34ma88etbnrmc0ck8twsc8w3xm', 'model': 'codingforentrepreneurs/superme-justin-v1', 'version': '4bc2a39fa73d29cd531c57ad4f56bede13378ce3da2f6f517684b0b61bd192d7', 'created_at': '2024-11-19T23:20:05.469000Z', 'completed_at': '2024-11-19T23:20:37.263129Z', 'files': [], 'num_outputs': 0}\n",
      "{'id': '6bh537jtehrm80ck8twavy1kk4', 'url': '/predictions/6bh537jtehrm80ck8twavy1kk4', 'model': 'codingforentrepreneurs/superme-justin-v1', 'version': '4bc2a39fa73d29cd531c57ad4f56bede13378ce3da2f6f517684b0b61bd192d7', 'created_at': '2024-11-19T23:18:27.188000Z', 'completed_at': '2024-11-19T23:18:36.558553Z', 'files': ['/predictions/6bh537jtehrm80ck8twavy1kk4/file/0.webp'], 'num_outputs': 1}\n",
      "{'id': 'wmpxh6h16srma0ck8tw97d0xw0', 'url': '/predictions/wmpxh6h16srma0ck8tw97d0xw0', 'model': 'codingforentrepreneurs/superme-justin-v1', 'version': '4bc2a39fa73d29cd531c57ad4f56bede13378ce3da2f6f517684b0b61bd192d7', 'created_at': '2024-11-19T23:18:12.534000Z', 'completed_at': '2024-11-19T23:18:22.452108Z', 'files': ['/predictions/wmpxh6h16srma0ck8tw97d0xw0/file/0.webp'], 'num_outputs': 1}\n",
      "{'id': 'jyapp0mmbdrme0ck8tvay6dcqr', 'url': '/predictions/jyapp0mmbdrme0ck8tvay6dcqr', 'model': 'codingforentrepreneurs/superme-justin-v1', 'version': '4bc2a39fa73d29cd531c57ad4f56bede13378ce3da2f6f517684b0b61bd192d7', 'created_at': '2024-11-19T23:16:30.939000Z', 'completed_at': '2024-11-19T23:16:43.197060Z', 'files': ['/predictions/jyapp0mmbdrme0ck8tvay6dcqr/file/0.webp'], 'num_outputs': 1}\n",
      "{'id': 'nn5hkvgejdrm80ck8tstg73fwc', 'url': '/predictions/nn5hkvgejdrm80ck8tstg73fwc', 'model': 'codingforentrepreneurs/superme-justin-v1', 'version': '4bc2a39fa73d29cd531c57ad4f56bede13378ce3da2f6f517684b0b61bd192d7', 'created_at': '2024-11-19T23:12:40.083000Z', 'completed_at': '2024-11-19T23:13:17.077378Z', 'files': [], 'num_outputs': 0}\n",
      "{'id': 'f0jyc0raj5rm80ck8tps7mc9a8', 'url': '/predictions/f0jyc0raj5rm80ck8tps7mc9a8', 'model': 'codingforentrepreneurs/superme-justin-v1', 'version': '4bc2a39fa73d29cd531c57ad4f56bede13378ce3da2f6f517684b0b61bd192d7', 'created_at': '2024-11-19T23:06:05.841000Z', 'completed_at': '2024-11-19T23:06:17.810626Z', 'files': ['/predictions/f0jyc0raj5rm80ck8tps7mc9a8/file/0.webp'], 'num_outputs': 1}\n",
      "{'id': 'a48ntx8e3drma0ck8tpa4yw5z0', 'url': '/predictions/a48ntx8e3drma0ck8tpa4yw5z0', 'model': 'codingforentrepreneurs/superme-justin-v1', 'version': '4bc2a39fa73d29cd531c57ad4f56bede13378ce3da2f6f517684b0b61bd192d7', 'created_at': '2024-11-19T23:05:01.211000Z', 'completed_at': '2024-11-19T23:05:12.398152Z', 'files': ['/predictions/a48ntx8e3drma0ck8tpa4yw5z0/file/0.webp'], 'num_outputs': 1}\n",
      "{'id': 'qsjzvq0rg5rmc0ck8tnsyb1zbg', 'url': '/predictions/qsjzvq0rg5rmc0ck8tnsyb1zbg', 'model': 'codingforentrepreneurs/superme-justin-v1', 'version': '4bc2a39fa73d29cd531c57ad4f56bede13378ce3da2f6f517684b0b61bd192d7', 'created_at': '2024-11-19T23:03:58.337000Z', 'completed_at': '2024-11-19T23:04:12.820451Z', 'files': ['/predictions/qsjzvq0rg5rmc0ck8tnsyb1zbg/file/0.jpg'], 'num_outputs': 1}\n",
      "{'id': 'exahg4g83hrmc0ck8tbbh7jxy0', 'url': '/predictions/exahg4g83hrmc0ck8tbbh7jxy0', 'model': 'codingforentrepreneurs/superme-justin-v1', 'version': '4bc2a39fa73d29cd531c57ad4f56bede13378ce3da2f6f517684b0b61bd192d7', 'created_at': '2024-11-19T22:40:57.884000Z', 'completed_at': '2024-11-19T22:42:34.942832Z', 'files': [], 'num_outputs': 0}\n",
      "{'id': 'rsc2h2tjwnrm80ck8t89ffhhfm', 'url': '/predictions/rsc2h2tjwnrm80ck8t89ffhhfm', 'model': 'codingforentrepreneurs/superme-justin-v1', 'version': '4bc2a39fa73d29cd531c57ad4f56bede13378ce3da2f6f517684b0b61bd192d7', 'created_at': '2024-11-19T22:34:43.813000Z', 'completed_at': '2024-11-19T22:35:22.448104Z', 'files': [], 'num_outputs': 0}\n",
      "{'id': 'cgrzt5qdmnrma0ck8t78xwmwmg', 'url': '/predictions/cgrzt5qdmnrma0ck8t78xwmwmg', 'model': 'codingforentrepreneurs/superme-justin-v1', 'version': '4bc2a39fa73d29cd531c57ad4f56bede13378ce3da2f6f517684b0b61bd192d7', 'created_at': '2024-11-19T22:33:12.357000Z', 'completed_at': '2024-11-19T22:33:50.823240Z', 'files': [], 'num_outputs': 0}\n",
      "{'id': 'qw7ak4wv31rme0ck8t6vwx0a68', 'url': '/predictions/qw7ak4wv31rme0ck8t6vwx0a68', 'model': 'codingforentrepreneurs/superme-justin-v1', 'version': '4bc2a39fa73d29cd531c57ad4f56bede13378ce3da2f6f517684b0b61bd192d7', 'created_at': '2024-11-19T22:31:45.688000Z', 'completed_at': '2024-11-19T22:32:23.587149Z', 'files': [], 'num_outputs': 0}\n",
      "{'id': 'kf3erncdvxrma0ck8t6aqxzsdr', 'url': '/predictions/kf3erncdvxrma0ck8t6aqxzsdr', 'model': 'codingforentrepreneurs/superme-justin-v1', 'version': '4bc2a39fa73d29cd531c57ad4f56bede13378ce3da2f6f517684b0b61bd192d7', 'created_at': '2024-11-19T22:30:36.767000Z', 'completed_at': '2024-11-19T22:31:13.291061Z', 'files': [], 'num_outputs': 0}\n",
      "{'id': 's9dk0nbez5rma0ck8t5v1wfzs0', 'url': '/predictions/s9dk0nbez5rma0ck8t5v1wfzs0', 'model': 'codingforentrepreneurs/superme-justin-v1', 'version': '4bc2a39fa73d29cd531c57ad4f56bede13378ce3da2f6f517684b0b61bd192d7', 'created_at': '2024-11-19T22:29:23.321000Z', 'completed_at': '2024-11-19T22:29:59.551715Z', 'files': [], 'num_outputs': 0}\n",
      "{'id': 'jxx8k7thdhrma0ck8t5a1kxnf8', 'url': '/predictions/jxx8k7thdhrma0ck8t5a1kxnf8', 'model': 'codingforentrepreneurs/superme-justin-v1', 'version': '4bc2a39fa73d29cd531c57ad4f56bede13378ce3da2f6f517684b0b61bd192d7', 'created_at': '2024-11-19T22:28:10.220000Z', 'completed_at': '2024-11-19T22:28:54.118922Z', 'files': [], 'num_outputs': 0}\n",
      "{'id': 'fh10cqv891rm80ck8t4s79hcvr', 'url': '/predictions/fh10cqv891rm80ck8t4s79hcvr', 'model': 'codingforentrepreneurs/superme-justin-v1', 'version': '4bc2a39fa73d29cd531c57ad4f56bede13378ce3da2f6f517684b0b61bd192d7', 'created_at': '2024-11-19T22:27:10.536000Z', 'completed_at': '2024-11-19T22:27:47.521249Z', 'files': [], 'num_outputs': 0}\n",
      "{'id': 'k5xg6pkb79rmc0ck8t488x7s88', 'url': '/predictions/k5xg6pkb79rmc0ck8t488x7s88', 'model': 'codingforentrepreneurs/superme-justin-v1', 'version': '4bc2a39fa73d29cd531c57ad4f56bede13378ce3da2f6f517684b0b61bd192d7', 'created_at': '2024-11-19T22:26:05.754000Z', 'completed_at': '2024-11-19T22:26:45.479714Z', 'files': [], 'num_outputs': 0}\n",
      "{'id': 'twvzzer8msrm80ck8t3b3xpe8g', 'url': '/predictions/twvzzer8msrm80ck8t3b3xpe8g', 'model': 'codingforentrepreneurs/superme-justin-v1', 'version': '4bc2a39fa73d29cd531c57ad4f56bede13378ce3da2f6f517684b0b61bd192d7', 'created_at': '2024-11-19T22:23:29.446000Z', 'completed_at': '2024-11-19T22:24:07.524875Z', 'files': [], 'num_outputs': 0}\n",
      "{'id': '15v3nmvfm1rma0ck8t2a51mwhc', 'url': '/predictions/15v3nmvfm1rma0ck8t2a51mwhc', 'model': 'codingforentrepreneurs/superme-justin-v1', 'version': '4bc2a39fa73d29cd531c57ad4f56bede13378ce3da2f6f517684b0b61bd192d7', 'created_at': '2024-11-19T22:21:44.736000Z', 'completed_at': '2024-11-19T22:22:23.221761Z', 'files': [], 'num_outputs': 0}\n",
      "{'id': 'stckpm8dm1rmc0ck8t1vppbbm4', 'url': '/predictions/stckpm8dm1rmc0ck8t1vppbbm4', 'model': 'codingforentrepreneurs/superme-justin-v1', 'version': '4bc2a39fa73d29cd531c57ad4f56bede13378ce3da2f6f517684b0b61bd192d7', 'created_at': '2024-11-19T22:20:14.112000Z', 'completed_at': '2024-11-19T22:20:51.769420Z', 'files': [], 'num_outputs': 0}\n",
      "{'id': 'arzn7ezg91rm80ck8t0s69cctr', 'url': '/predictions/arzn7ezg91rm80ck8t0s69cctr', 'model': 'codingforentrepreneurs/superme-justin-v1', 'version': '4bc2a39fa73d29cd531c57ad4f56bede13378ce3da2f6f517684b0b61bd192d7', 'created_at': '2024-11-19T22:19:01.064000Z', 'completed_at': '2024-11-19T22:19:39.739925Z', 'files': [], 'num_outputs': 0}\n",
      "{'id': 'ab8ww7kdcnrm80ck8syv3d3fa4', 'url': '/predictions/ab8ww7kdcnrm80ck8syv3d3fa4', 'model': 'codingforentrepreneurs/superme-justin-v1', 'version': '4bc2a39fa73d29cd531c57ad4f56bede13378ce3da2f6f517684b0b61bd192d7', 'created_at': '2024-11-19T22:14:05.413000Z', 'completed_at': '2024-11-19T22:14:16.569464Z', 'files': [], 'num_outputs': 0}\n"
     ]
    }
   ],
   "source": [
    "import pathlib\n",
    "\n",
    "for obj in preds_json:\n",
    "    path = obj.get('url')\n",
    "    endpoint = f\"http://127.0.0.1:8000{path}\"\n",
    "    res = httpx.get(endpoint, headers=headers)\n",
    "    if res.status_code not in range(200, 299):\n",
    "        continue\n",
    "    data = res.json()\n",
    "    print(data)\n",
    "    # _id = data.get('id')\n",
    "    # _input = data.get('input') or {}\n",
    "    # num_outputs = _input.get('num_outputs') or 0\n",
    "    # _output = data.get('output')\n",
    "    # if _output is None:\n",
    "    #     continue\n",
    "    # print(data)\n",
    "    # output_names = [pathlib.Path(x) for x in _output]\n",
    "    # print(num_outputs, output_names)\n",
    "    # for x, output_path in enumerate(output_names):\n",
    "    #     suffix = output_path.suffix\n",
    "    #     print(f\"{path}/file/{x}{suffix}\")\n",
    "    # # print(_id, num_outputs, _output)\n",
    "    # break"
   ]
  },
  {
   "cell_type": "code",
   "execution_count": null,
   "metadata": {},
   "outputs": [],
   "source": []
  },
  {
   "cell_type": "code",
   "execution_count": null,
   "metadata": {},
   "outputs": [],
   "source": []
  }
 ],
 "metadata": {
  "kernelspec": {
   "display_name": "venv",
   "language": "python",
   "name": "python3"
  },
  "language_info": {
   "codemirror_mode": {
    "name": "ipython",
    "version": 3
   },
   "file_extension": ".py",
   "mimetype": "text/x-python",
   "name": "python",
   "nbconvert_exporter": "python",
   "pygments_lexer": "ipython3",
   "version": "3.13.0"
  }
 },
 "nbformat": 4,
 "nbformat_minor": 2
}
