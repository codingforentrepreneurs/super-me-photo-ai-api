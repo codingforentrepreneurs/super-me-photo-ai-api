{
 "cells": [
  {
   "cell_type": "code",
   "execution_count": 14,
   "metadata": {},
   "outputs": [
    {
     "data": {
      "text/plain": [
       "(200, {'Hello': 'World'}, None)"
      ]
     },
     "execution_count": 14,
     "metadata": {},
     "output_type": "execute_result"
    }
   ],
   "source": [
    "import httpx\n",
    "from decouple import config\n",
    "\n",
    "API_ACCESS_KEY = config('API_ACCESS_KEY')\n",
    "\n",
    "headers = {\n",
    "    \"X-API-Key\": API_ACCESS_KEY\n",
    "}\n",
    "endpoint = \"http://127.0.0.1:8000/\"\n",
    "res = httpx.get(endpoint, headers=headers)\n",
    "res.status_code, res.json(), res.headers.get('Retry-After')"
   ]
  },
  {
   "cell_type": "code",
   "execution_count": 33,
   "metadata": {},
   "outputs": [
    {
     "data": {
      "text/plain": [
       "[{'url': '/predictions/ec5cs38gf5rma0ck9zbv7vgmh0',\n",
       "  'status': 'succeeded',\n",
       "  'created_at': '2024-11-21T17:48:34.809000Z',\n",
       "  'completed_at': '2024-11-21T17:48:56.744962Z'},\n",
       " {'url': '/predictions/361ap7kthxrme0ck9z99j874j0',\n",
       "  'status': 'succeeded',\n",
       "  'created_at': '2024-11-21T17:43:34.287000Z',\n",
       "  'completed_at': '2024-11-21T17:43:54.070836Z'},\n",
       " {'url': '/predictions/a70v0907w9rmc0ck9dps4q4dp8',\n",
       "  'status': 'succeeded',\n",
       "  'created_at': '2024-11-20T21:14:16.930000Z',\n",
       "  'completed_at': '2024-11-20T21:14:37.487118Z'},\n",
       " {'url': '/predictions/dat0d05k01rma0ck9cn8hs27aw',\n",
       "  'status': 'succeeded',\n",
       "  'created_at': '2024-11-20T20:01:49.824000Z',\n",
       "  'completed_at': '2024-11-20T20:02:43.935498Z'},\n",
       " {'url': '/predictions/kvyfab334srma0ck9bv9mxdd28',\n",
       "  'status': 'succeeded',\n",
       "  'created_at': '2024-11-20T19:04:41.510000Z',\n",
       "  'completed_at': '2024-11-20T19:05:02.648986Z'},\n",
       " {'url': '/predictions/71qwkxhtaxrmc0ck9btsxbb3vg',\n",
       "  'status': 'succeeded',\n",
       "  'created_at': '2024-11-20T19:03:25.527000Z',\n",
       "  'completed_at': '2024-11-20T19:03:39.214338Z'},\n",
       " {'url': '/predictions/yxwjr9fh41rmc0ck9bprweb6yc',\n",
       "  'status': 'succeeded',\n",
       "  'created_at': '2024-11-20T18:55:28.032000Z',\n",
       "  'completed_at': '2024-11-20T18:56:06.192777Z'},\n",
       " {'url': '/predictions/9xbtgae1v5rma0ck8vc9tbvmnm',\n",
       "  'status': 'succeeded',\n",
       "  'created_at': '2024-11-19T23:53:50.809000Z',\n",
       "  'completed_at': '2024-11-19T23:55:26.259722Z'},\n",
       " {'url': '/predictions/0svmxqwzv5rme0ck8vbaqqx980',\n",
       "  'status': 'succeeded',\n",
       "  'created_at': '2024-11-19T23:51:31.033000Z',\n",
       "  'completed_at': '2024-11-19T23:53:08.264435Z'},\n",
       " {'url': '/predictions/pzmgmy3tkhrm80ck8tz81ztnyc',\n",
       "  'status': 'succeeded',\n",
       "  'created_at': '2024-11-19T23:25:08.636000Z',\n",
       "  'completed_at': '2024-11-19T23:25:47.365512Z'},\n",
       " {'url': '/predictions/34ma88etbnrmc0ck8twsc8w3xm',\n",
       "  'status': 'succeeded',\n",
       "  'created_at': '2024-11-19T23:20:05.469000Z',\n",
       "  'completed_at': '2024-11-19T23:20:37.263129Z'},\n",
       " {'url': '/predictions/6bh537jtehrm80ck8twavy1kk4',\n",
       "  'status': 'succeeded',\n",
       "  'created_at': '2024-11-19T23:18:27.188000Z',\n",
       "  'completed_at': '2024-11-19T23:18:36.558553Z'},\n",
       " {'url': '/predictions/wmpxh6h16srma0ck8tw97d0xw0',\n",
       "  'status': 'succeeded',\n",
       "  'created_at': '2024-11-19T23:18:12.534000Z',\n",
       "  'completed_at': '2024-11-19T23:18:22.452108Z'},\n",
       " {'url': '/predictions/jyapp0mmbdrme0ck8tvay6dcqr',\n",
       "  'status': 'succeeded',\n",
       "  'created_at': '2024-11-19T23:16:30.939000Z',\n",
       "  'completed_at': '2024-11-19T23:16:43.197060Z'},\n",
       " {'url': '/predictions/nn5hkvgejdrm80ck8tstg73fwc',\n",
       "  'status': 'succeeded',\n",
       "  'created_at': '2024-11-19T23:12:40.083000Z',\n",
       "  'completed_at': '2024-11-19T23:13:17.077378Z'},\n",
       " {'url': '/predictions/f0jyc0raj5rm80ck8tps7mc9a8',\n",
       "  'status': 'succeeded',\n",
       "  'created_at': '2024-11-19T23:06:05.841000Z',\n",
       "  'completed_at': '2024-11-19T23:06:17.810626Z'},\n",
       " {'url': '/predictions/a48ntx8e3drma0ck8tpa4yw5z0',\n",
       "  'status': 'succeeded',\n",
       "  'created_at': '2024-11-19T23:05:01.211000Z',\n",
       "  'completed_at': '2024-11-19T23:05:12.398152Z'},\n",
       " {'url': '/predictions/qsjzvq0rg5rmc0ck8tnsyb1zbg',\n",
       "  'status': 'succeeded',\n",
       "  'created_at': '2024-11-19T23:03:58.337000Z',\n",
       "  'completed_at': '2024-11-19T23:04:12.820451Z'},\n",
       " {'url': '/predictions/exahg4g83hrmc0ck8tbbh7jxy0',\n",
       "  'status': 'succeeded',\n",
       "  'created_at': '2024-11-19T22:40:57.884000Z',\n",
       "  'completed_at': '2024-11-19T22:42:34.942832Z'},\n",
       " {'url': '/predictions/rsc2h2tjwnrm80ck8t89ffhhfm',\n",
       "  'status': 'succeeded',\n",
       "  'created_at': '2024-11-19T22:34:43.813000Z',\n",
       "  'completed_at': '2024-11-19T22:35:22.448104Z'},\n",
       " {'url': '/predictions/cgrzt5qdmnrma0ck8t78xwmwmg',\n",
       "  'status': 'succeeded',\n",
       "  'created_at': '2024-11-19T22:33:12.357000Z',\n",
       "  'completed_at': '2024-11-19T22:33:50.823240Z'},\n",
       " {'url': '/predictions/qw7ak4wv31rme0ck8t6vwx0a68',\n",
       "  'status': 'succeeded',\n",
       "  'created_at': '2024-11-19T22:31:45.688000Z',\n",
       "  'completed_at': '2024-11-19T22:32:23.587149Z'},\n",
       " {'url': '/predictions/kf3erncdvxrma0ck8t6aqxzsdr',\n",
       "  'status': 'succeeded',\n",
       "  'created_at': '2024-11-19T22:30:36.767000Z',\n",
       "  'completed_at': '2024-11-19T22:31:13.291061Z'},\n",
       " {'url': '/predictions/s9dk0nbez5rma0ck8t5v1wfzs0',\n",
       "  'status': 'succeeded',\n",
       "  'created_at': '2024-11-19T22:29:23.321000Z',\n",
       "  'completed_at': '2024-11-19T22:29:59.551715Z'},\n",
       " {'url': '/predictions/jxx8k7thdhrma0ck8t5a1kxnf8',\n",
       "  'status': 'succeeded',\n",
       "  'created_at': '2024-11-19T22:28:10.220000Z',\n",
       "  'completed_at': '2024-11-19T22:28:54.118922Z'},\n",
       " {'url': '/predictions/fh10cqv891rm80ck8t4s79hcvr',\n",
       "  'status': 'succeeded',\n",
       "  'created_at': '2024-11-19T22:27:10.536000Z',\n",
       "  'completed_at': '2024-11-19T22:27:47.521249Z'},\n",
       " {'url': '/predictions/k5xg6pkb79rmc0ck8t488x7s88',\n",
       "  'status': 'succeeded',\n",
       "  'created_at': '2024-11-19T22:26:05.754000Z',\n",
       "  'completed_at': '2024-11-19T22:26:45.479714Z'},\n",
       " {'url': '/predictions/twvzzer8msrm80ck8t3b3xpe8g',\n",
       "  'status': 'succeeded',\n",
       "  'created_at': '2024-11-19T22:23:29.446000Z',\n",
       "  'completed_at': '2024-11-19T22:24:07.524875Z'},\n",
       " {'url': '/predictions/15v3nmvfm1rma0ck8t2a51mwhc',\n",
       "  'status': 'succeeded',\n",
       "  'created_at': '2024-11-19T22:21:44.736000Z',\n",
       "  'completed_at': '2024-11-19T22:22:23.221761Z'},\n",
       " {'url': '/predictions/stckpm8dm1rmc0ck8t1vppbbm4',\n",
       "  'status': 'succeeded',\n",
       "  'created_at': '2024-11-19T22:20:14.112000Z',\n",
       "  'completed_at': '2024-11-19T22:20:51.769420Z'},\n",
       " {'url': '/predictions/arzn7ezg91rm80ck8t0s69cctr',\n",
       "  'status': 'succeeded',\n",
       "  'created_at': '2024-11-19T22:19:01.064000Z',\n",
       "  'completed_at': '2024-11-19T22:19:39.739925Z'},\n",
       " {'url': '/predictions/ab8ww7kdcnrm80ck8syv3d3fa4',\n",
       "  'status': 'succeeded',\n",
       "  'created_at': '2024-11-19T22:14:05.413000Z',\n",
       "  'completed_at': '2024-11-19T22:14:16.569464Z'}]"
      ]
     },
     "execution_count": 33,
     "metadata": {},
     "output_type": "execute_result"
    }
   ],
   "source": [
    "API_ACCESS_KEY = config('API_ACCESS_KEY')\n",
    "\n",
    "headers = {\n",
    "    \"X-API-Key\": API_ACCESS_KEY\n",
    "}\n",
    "endpoint = \"http://127.0.0.1:8000/predictions\"\n",
    "preds_res = httpx.get(endpoint, headers=headers)\n",
    "preds_json = res.json()\n",
    "preds_json"
   ]
  },
  {
   "cell_type": "code",
   "execution_count": 45,
   "metadata": {},
   "outputs": [
    {
     "data": {
      "text/plain": [
       "200"
      ]
     },
     "execution_count": 45,
     "metadata": {},
     "output_type": "execute_result"
    }
   ],
   "source": [
    "API_ACCESS_KEY = config('API_ACCESS_KEY')\n",
    "\n",
    "headers = {\n",
    "    \"X-API-Key\": API_ACCESS_KEY\n",
    "}\n",
    "# endpoint = \"http://127.0.0.1:8000/predictions\"\n",
    "recent_url = preds_json[0].get('url')\n",
    "if not recent_url.startswith('/'):\n",
    "    recent_url = f\"/{recent_url}\"\n",
    "detail_url = f\"http://127.0.0.1:8000{recent_url}\"\n",
    "res = httpx.get(detail_url, headers=headers)\n",
    "res.status_code # res.json()"
   ]
  },
  {
   "cell_type": "code",
   "execution_count": null,
   "metadata": {},
   "outputs": [],
   "source": []
  }
 ],
 "metadata": {
  "kernelspec": {
   "display_name": "venv",
   "language": "python",
   "name": "python3"
  },
  "language_info": {
   "codemirror_mode": {
    "name": "ipython",
    "version": 3
   },
   "file_extension": ".py",
   "mimetype": "text/x-python",
   "name": "python",
   "nbconvert_exporter": "python",
   "pygments_lexer": "ipython3",
   "version": "3.13.0"
  }
 },
 "nbformat": 4,
 "nbformat_minor": 2
}
