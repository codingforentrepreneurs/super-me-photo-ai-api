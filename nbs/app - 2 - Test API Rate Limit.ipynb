{
 "cells": [
  {
   "cell_type": "code",
   "execution_count": 1,
   "metadata": {},
   "outputs": [
    {
     "data": {
      "text/plain": [
       "(200, {'Hello': 'World'}, None)"
      ]
     },
     "execution_count": 1,
     "metadata": {},
     "output_type": "execute_result"
    }
   ],
   "source": [
    "import httpx\n",
    "from decouple import config\n",
    "\n",
    "API_ACCESS_KEY = config('API_ACCESS_KEY')\n",
    "\n",
    "headers = {\n",
    "    \"X-API-Key\": API_ACCESS_KEY\n",
    "}\n",
    "endpoint = \"http://127.0.0.1:8000/\"\n",
    "res = httpx.get(endpoint, headers=headers)\n",
    "res.status_code, res.json(), res.headers.get('Retry-After')"
   ]
  },
  {
   "cell_type": "code",
   "execution_count": 5,
   "metadata": {},
   "outputs": [],
   "source": [
    "API_ACCESS_KEY = config('API_ACCESS_KEY')\n",
    "\n",
    "headers = {\n",
    "    \"X-API-Key\": API_ACCESS_KEY\n",
    "}\n",
    "endpoint = \"http://127.0.0.1:8000/predictions\"\n",
    "preds_res = httpx.get(endpoint, headers=headers)\n",
    "preds_json = preds_res.json()\n",
    "# preds_json"
   ]
  },
  {
   "cell_type": "code",
   "execution_count": null,
   "metadata": {},
   "outputs": [
    {
     "data": {
      "text/plain": [
       "[{'id': 'ec5cs38gf5rma0ck9zbv7vgmh0',\n",
       "  'model': 'codingforentrepreneurs/superme-justin-v1',\n",
       "  'version': '4bc2a39fa73d29cd531c57ad4f56bede13378ce3da2f6f517684b0b61bd192d7',\n",
       "  'status': 'succeeded',\n",
       "  'input': {'num_outputs': 2,\n",
       "   'output_format': 'jpg',\n",
       "   'prompt': 'a photo of TOK adult man dressed up for a sports photo shoot'},\n",
       "  'output': ['https://replicate.delivery/xezq/GeDWx8Pe9KjNZ0VWqbDCoYf8LKiB2Ynvvgml2b8HulegIJNPB/out-0.jpg',\n",
       "   'https://replicate.delivery/xezq/HfwDJ3vd6eq270lLXQSCYUMJy7KARntJuniY8uOrtzMISSzTA/out-1.jpg'],\n",
       "  'logs': 'Using seed: 4312\\nPrompt: a photo of TOK adult man dressed up for a sports photo shoot\\n[!] txt2img mode\\nUsing dev model\\nfree=29211391827968\\nDownloading weights\\n2024-11-21T17:48:35Z | INFO  | [ Initiating ] chunk_size=150M dest=/tmp/tmpr3prs3xz/weights url=https://replicate.delivery/xezq/2afnJqLA5bWLVKHG93pPA6B7NHXMKcHW0J8dT9iCKKWkiV5JA/trained_model.tar\\n2024-11-21T17:48:38Z | INFO  | [ Complete ] dest=/tmp/tmpr3prs3xz/weights size=\"172 MB\" total_elapsed=2.773s url=https://replicate.delivery/xezq/2afnJqLA5bWLVKHG93pPA6B7NHXMKcHW0J8dT9iCKKWkiV5JA/trained_model.tar\\nDownloaded weights in 2.80s\\nLoaded LoRAs in 3.26s\\n  0%|          | 0/28 [00:00<?, ?it/s]\\n  4%|▎         | 1/28 [00:00<00:16,  1.60it/s]\\n  7%|▋         | 2/28 [00:01<00:14,  1.79it/s]\\n 11%|█         | 3/28 [00:01<00:14,  1.70it/s]\\n 14%|█▍        | 4/28 [00:02<00:14,  1.66it/s]\\n 18%|█▊        | 5/28 [00:03<00:14,  1.64it/s]\\n 21%|██▏       | 6/28 [00:03<00:13,  1.62it/s]\\n 25%|██▌       | 7/28 [00:04<00:12,  1.62it/s]\\n 29%|██▊       | 8/28 [00:04<00:12,  1.61it/s]\\n 32%|███▏      | 9/28 [00:05<00:11,  1.61it/s]\\n 36%|███▌      | 10/28 [00:06<00:11,  1.61it/s]\\n 39%|███▉      | 11/28 [00:06<00:10,  1.60it/s]\\n 43%|████▎     | 12/28 [00:07<00:09,  1.60it/s]\\n 46%|████▋     | 13/28 [00:08<00:09,  1.60it/s]\\n 50%|█████     | 14/28 [00:08<00:08,  1.60it/s]\\n 54%|█████▎    | 15/28 [00:09<00:08,  1.60it/s]\\n 57%|█████▋    | 16/28 [00:09<00:07,  1.60it/s]\\n 61%|██████    | 17/28 [00:10<00:06,  1.60it/s]\\n 64%|██████▍   | 18/28 [00:11<00:06,  1.60it/s]\\n 68%|██████▊   | 19/28 [00:11<00:05,  1.60it/s]\\n 71%|███████▏  | 20/28 [00:12<00:05,  1.60it/s]\\n 75%|███████▌  | 21/28 [00:13<00:04,  1.60it/s]\\n 79%|███████▊  | 22/28 [00:13<00:03,  1.60it/s]\\n 82%|████████▏ | 23/28 [00:14<00:03,  1.60it/s]\\n 86%|████████▌ | 24/28 [00:14<00:02,  1.60it/s]\\n 89%|████████▉ | 25/28 [00:15<00:01,  1.60it/s]\\n 93%|█████████▎| 26/28 [00:16<00:01,  1.60it/s]\\n 96%|█████████▋| 27/28 [00:16<00:00,  1.60it/s]\\n100%|██████████| 28/28 [00:17<00:00,  1.60it/s]\\n100%|██████████| 28/28 [00:17<00:00,  1.61it/s]',\n",
       "  'error': None,\n",
       "  'metrics': {'predict_time': 21.074937853},\n",
       "  'created_at': '2024-11-21T17:48:34.809Z',\n",
       "  'started_at': '2024-11-21T17:48:35.670024Z',\n",
       "  'completed_at': '2024-11-21T17:48:56.744962Z',\n",
       "  'urls': {'cancel': 'https://api.replicate.com/v1/predictions/ec5cs38gf5rma0ck9zbv7vgmh0/cancel',\n",
       "   'get': 'https://api.replicate.com/v1/predictions/ec5cs38gf5rma0ck9zbv7vgmh0',\n",
       "   'stream': 'https://stream.replicate.com/v1/files/bcwr-mojgai7wbxcro7vvgkcbdw5p653uz3e75xlrdtgd4y5mutdqy77q'}},\n",
       " 200]"
      ]
     },
     "execution_count": 7,
     "metadata": {},
     "output_type": "execute_result"
    }
   ],
   "source": [
    "API_ACCESS_KEY = config('API_ACCESS_KEY')\n",
    "\n",
    "headers = {\n",
    "    \"X-API-Key\": API_ACCESS_KEY\n",
    "}\n",
    "# endpoint = \"http://127.0.0.1:8000/predictions\"\n",
    "recent_url = preds_json[0].get('url')\n",
    "if not recent_url.startswith('/'):\n",
    "    recent_url = f\"/{recent_url}\"\n",
    "detail_url = f\"http://127.0.0.1:8000{recent_url}\"\n",
    "res = httpx.get(detail_url, headers=headers)\n",
    "res.status_code \n",
    "# res.json()"
   ]
  },
  {
   "cell_type": "code",
   "execution_count": 21,
   "metadata": {},
   "outputs": [
    {
     "name": "stdout",
     "output_type": "stream",
     "text": [
      "2 [PosixPath('https:/replicate.delivery/xezq/GeDWx8Pe9KjNZ0VWqbDCoYf8LKiB2Ynvvgml2b8HulegIJNPB/out-0.jpg'), PosixPath('https:/replicate.delivery/xezq/HfwDJ3vd6eq270lLXQSCYUMJy7KARntJuniY8uOrtzMISSzTA/out-1.jpg')]\n",
      "/predictions/ec5cs38gf5rma0ck9zbv7vgmh0/file/0.jpg\n",
      "/predictions/ec5cs38gf5rma0ck9zbv7vgmh0/file/1.jpg\n",
      "2 [PosixPath('https:/replicate.delivery/xezq/fS170SzbaX1rAicyVIzb6EUYDahRNt2bZLKu0wskE7OtGp5JA/out-0.jpg'), PosixPath('https:/replicate.delivery/xezq/yjzeTHKcR2StRSFXswntfzoRTzNSzKqMYZVtpXrfdFJ0akmnA/out-1.jpg')]\n",
      "/predictions/361ap7kthxrme0ck9z99j874j0/file/0.jpg\n",
      "/predictions/361ap7kthxrme0ck9z99j874j0/file/1.jpg\n",
      "1 [PosixPath('https:/replicate.delivery/xezq/r2iC8B04oEKjGR1PXGidUgXPi7PoNZqOLfOYNJqcprbmdW5JA/out-0.webp')]\n",
      "/predictions/6bh537jtehrm80ck8twavy1kk4/file/0.webp\n",
      "1 [PosixPath('https:/replicate.delivery/xezq/DecDbN1MNRVafU6RKatw4hpxsFTxZvYY5oNTmvvSdJ5e1ZlnA/out-0.webp')]\n",
      "/predictions/wmpxh6h16srma0ck8tw97d0xw0/file/0.webp\n",
      "1 [PosixPath('https:/replicate.delivery/xezq/3Kw4ilnWAkbPLVDu3dlpwtiL4FTR5Iwu4pNEW0vdwMzWOr8E/out-0.webp')]\n",
      "/predictions/jyapp0mmbdrme0ck8tvay6dcqr/file/0.webp\n",
      "1 [PosixPath('https:/replicate.delivery/xezq/u0LLhFdnEe0lNKreORy6mHlJxe11XB8LBwvtG8elGValelVeE/out-0.webp')]\n",
      "/predictions/f0jyc0raj5rm80ck8tps7mc9a8/file/0.webp\n",
      "1 [PosixPath('https:/replicate.delivery/xezq/2RWnv0hcAuKGCxz5tR6lBeSu8oCnOPlWJsAsFZyn2lVUXW5JA/out-0.webp')]\n",
      "/predictions/a48ntx8e3drma0ck8tpa4yw5z0/file/0.webp\n",
      "1 [PosixPath('https:/replicate.delivery/xezq/yAeor1anRYR6WSTwDfCY5soQ8Ms23owTbVmbivEMartstsyTA/out-0.jpg')]\n",
      "/predictions/qsjzvq0rg5rmc0ck8tnsyb1zbg/file/0.jpg\n"
     ]
    }
   ],
   "source": [
    "import pathlib\n",
    "\n",
    "for obj in preds_json[:20]:\n",
    "    path = obj.get('url')\n",
    "    endpoint = f\"http://127.0.0.1:8000{path}\"\n",
    "    res = httpx.get(endpoint, headers=headers)\n",
    "    if res.status_code not in range(200, 299):\n",
    "        continue\n",
    "    data = res.json()\n",
    "    _id = data.get('id')\n",
    "    _input = data.get('input') or {}\n",
    "    num_outputs = _input.get('num_outputs') or 0\n",
    "    _output = data.get('output')\n",
    "    if _output is None:\n",
    "        continue\n",
    "    output_names = [pathlib.Path(x) for x in _output]\n",
    "    print(num_outputs, output_names)\n",
    "    for x, output_path in enumerate(output_names):\n",
    "        suffix = output_path.suffix\n",
    "        print(f\"{path}/file/{x}{suffix}\")\n",
    "    # print(_id, num_outputs, _output)"
   ]
  },
  {
   "cell_type": "code",
   "execution_count": null,
   "metadata": {},
   "outputs": [],
   "source": []
  }
 ],
 "metadata": {
  "kernelspec": {
   "display_name": "venv",
   "language": "python",
   "name": "python3"
  },
  "language_info": {
   "codemirror_mode": {
    "name": "ipython",
    "version": 3
   },
   "file_extension": ".py",
   "mimetype": "text/x-python",
   "name": "python",
   "nbconvert_exporter": "python",
   "pygments_lexer": "ipython3",
   "version": "3.13.0"
  }
 },
 "nbformat": 4,
 "nbformat_minor": 2
}
