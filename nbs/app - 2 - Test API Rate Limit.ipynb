{
 "cells": [
  {
   "cell_type": "code",
   "execution_count": 14,
   "metadata": {},
   "outputs": [
    {
     "data": {
      "text/plain": [
       "(200, {'Hello': 'World'}, None)"
      ]
     },
     "execution_count": 14,
     "metadata": {},
     "output_type": "execute_result"
    }
   ],
   "source": [
    "import httpx\n",
    "from decouple import config\n",
    "\n",
    "API_ACCESS_KEY = config('API_ACCESS_KEY')\n",
    "\n",
    "headers = {\n",
    "    \"X-API-Key\": API_ACCESS_KEY\n",
    "}\n",
    "endpoint = \"http://127.0.0.1:8000/\"\n",
    "res = httpx.get(endpoint, headers=headers)\n",
    "res.status_code, res.json(), res.headers.get('Retry-After')"
   ]
  },
  {
   "cell_type": "code",
   "execution_count": 31,
   "metadata": {},
   "outputs": [
    {
     "data": {
      "text/plain": [
       "(200,\n",
       " [{'url': '/predictions/ec5cs38gf5rma0ck9zbv7vgmh0',\n",
       "   'status': 'processing',\n",
       "   'created_at': '2024-11-21T17:48:34.809000Z',\n",
       "   'completed_at': None}],\n",
       " None)"
      ]
     },
     "execution_count": 31,
     "metadata": {},
     "output_type": "execute_result"
    }
   ],
   "source": [
    "API_ACCESS_KEY = config('API_ACCESS_KEY')\n",
    "\n",
    "headers = {\n",
    "    \"X-API-Key\": API_ACCESS_KEY\n",
    "}\n",
    "endpoint = \"http://127.0.0.1:8000/predictions\"\n",
    "res = httpx.get(endpoint, params={\"status\": \"processing\"}, headers=headers)\n",
    "res.status_code, res.json(), res.headers.get('Retry-After')"
   ]
  },
  {
   "cell_type": "code",
   "execution_count": null,
   "metadata": {},
   "outputs": [],
   "source": []
  }
 ],
 "metadata": {
  "kernelspec": {
   "display_name": "venv",
   "language": "python",
   "name": "python3"
  },
  "language_info": {
   "codemirror_mode": {
    "name": "ipython",
    "version": 3
   },
   "file_extension": ".py",
   "mimetype": "text/x-python",
   "name": "python",
   "nbconvert_exporter": "python",
   "pygments_lexer": "ipython3",
   "version": "3.13.0"
  }
 },
 "nbformat": 4,
 "nbformat_minor": 2
}
