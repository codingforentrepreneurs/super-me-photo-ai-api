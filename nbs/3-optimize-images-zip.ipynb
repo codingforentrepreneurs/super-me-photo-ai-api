{
 "cells": [
  {
   "cell_type": "code",
   "execution_count": 8,
   "metadata": {},
   "outputs": [],
   "source": [
    "import mimetypes\n",
    "import pathlib\n",
    "import shutil\n",
    "import tempfile\n",
    "\n",
    "from PIL import Image, ImageOps\n",
    "from pillow_heif import register_heif_opener\n",
    "\n",
    "register_heif_opener()\n"
   ]
  },
  {
   "cell_type": "code",
   "execution_count": 9,
   "metadata": {},
   "outputs": [],
   "source": [
    "NBS_DIR = pathlib.Path().resolve()\n",
    "REPO_DIR = NBS_DIR.parent\n",
    "DATA_DIR = REPO_DIR / \"data\"\n",
    "INPUTS_DIR = DATA_DIR / \"inputs\"\n",
    "READY_DIR = DATA_DIR / \"ready\"\n",
    "OUTPUTS_DIR = DATA_DIR / \"outputs\""
   ]
  },
  {
   "cell_type": "code",
   "execution_count": null,
   "metadata": {},
   "outputs": [],
   "source": [
    "def perform_clear_and_optimize_image(image_path, output_path, max_size=(1920, 1920)):\n",
    "    \"\"\"\n",
    "    Removes all metadata from an image (e.g. EXIF data).\n",
    "    Optimizes the image file size while preserving quality and transparency when needed.\n",
    "    \"\"\"\n",
    "    # Convert to Path objects\n",
    "    image_path = pathlib.Path(image_path)\n",
    "    output_path = pathlib.Path(output_path)\n",
    "    \n",
    "    # Open and create clean copy\n",
    "    original = Image.open(image_path)\n",
    "\n",
    "    # Determine if image has transparency\n",
    "    has_transparency = (\n",
    "        original.mode in ('RGBA', 'LA') or \n",
    "        (original.mode == 'P' and 'transparency' in original.info)\n",
    "    )\n",
    "    \n",
    "    # Auto-rotate based on EXIF\n",
    "    original = ImageOps.exif_transpose(original)\n",
    "\n",
    "    # Resize if larger than max_size while maintaining aspect ratio\n",
    "    if original.size[0] > max_size[0] or original.size[1] > max_size[1]:\n",
    "        original.thumbnail(max_size, Image.Resampling.LANCZOS)\n",
    "\n",
    "    # Convert mode based on transparency\n",
    "    if has_transparency:\n",
    "        if original.mode != 'RGBA':\n",
    "            original = original.convert('RGBA')\n",
    "        best_format = 'PNG'\n",
    "    else:\n",
    "        if original.mode in ('RGBA', 'P', 'LA'):\n",
    "            original = original.convert('RGB')\n",
    "        best_format = 'JPEG'\n",
    "\n",
    "    # Save with optimized settings\n",
    "    save_kwargs = {}\n",
    "    if best_format == 'JPEG':\n",
    "        save_kwargs.update({\n",
    "            'quality': 85,\n",
    "            'optimize': True,\n",
    "            'progressive': True\n",
    "        })\n",
    "        output_path = output_path.with_suffix('.jpg')\n",
    "    elif best_format == 'PNG':\n",
    "        save_kwargs.update({\n",
    "            'optimize': True,\n",
    "            'compress_level': 6\n",
    "        })\n",
    "        output_path = output_path.with_suffix('.png')\n",
    "    print(f'Saving {output_path}')\n",
    "    original.save(output_path, format=best_format, **save_kwargs)\n",
    "    return output_path"
   ]
  },
  {
   "cell_type": "code",
   "execution_count": null,
   "metadata": {},
   "outputs": [],
   "source": [
    "def perform_is_image(path, require_can_open=True):\n",
    "    try:\n",
    "        guessed_type, encoding = mimetypes.guess_type(path)\n",
    "    except:\n",
    "        guessed_type = \"\"\n",
    "    guessed_image = \"image\" in guessed_type\n",
    "    if not guessed_image:\n",
    "        return False\n",
    "    if guessed_image and require_can_open:\n",
    "        try:\n",
    "            img_ = Image.open(path)\n",
    "        except:\n",
    "            return False\n",
    "    return True\n"
   ]
  },
  {
   "cell_type": "code",
   "execution_count": 14,
   "metadata": {},
   "outputs": [
    {
     "name": "stdout",
     "output_type": "stream",
     "text": [
      "<PIL.JpegImagePlugin.JpegImageFile image mode=RGB size=3088x2316 at 0x139F72710>\n",
      "<PIL.PngImagePlugin.PngImageFile image mode=RGBA size=1582x2792 at 0x13A1805F0>\n",
      "<PIL.PngImagePlugin.PngImageFile image mode=RGBA size=1546x2482 at 0x13A1805F0>\n",
      "<PIL.PngImagePlugin.PngImageFile image mode=RGBA size=2102x2648 at 0x13A1805F0>\n",
      "<PIL.MpoImagePlugin.MpoImageFile image mode=RGB size=4032x3024 at 0x139F72710>\n",
      "<PIL.JpegImagePlugin.JpegImageFile image mode=RGB size=3088x2316 at 0x139F72710>\n",
      "<PIL.PngImagePlugin.PngImageFile image mode=RGBA size=1990x2532 at 0x13A180830>\n",
      "<PIL.PngImagePlugin.PngImageFile image mode=RGBA size=2786x2028 at 0x13A180830>\n",
      "<PIL.PngImagePlugin.PngImageFile image mode=RGBA size=3284x1950 at 0x13A180830>\n",
      "<PIL.PngImagePlugin.PngImageFile image mode=RGBA size=2212x2566 at 0x13A180830>\n",
      "<PIL.MpoImagePlugin.MpoImageFile image mode=RGB size=3088x2316 at 0x139F72710>\n",
      "<PIL.JpegImagePlugin.JpegImageFile image mode=RGB size=3088x2316 at 0x139F72710>\n",
      "<PIL.MpoImagePlugin.MpoImageFile image mode=RGB size=4032x3024 at 0x139F72710>\n",
      "<PIL.JpegImagePlugin.JpegImageFile image mode=RGB size=4032x3024 at 0x139F72710>\n"
     ]
    }
   ],
   "source": [
    "image_file_paths = []\n",
    "\n",
    "for file_path in INPUTS_DIR.glob(\"*\"):\n",
    "    is_image = perform_is_image(file_path)\n",
    "    if not is_image:\n",
    "        continue\n",
    "    image_file_paths.append(file_path)"
   ]
  },
  {
   "cell_type": "code",
   "execution_count": 15,
   "metadata": {},
   "outputs": [
    {
     "data": {
      "text/plain": [
       "[PosixPath('/Users/cfe/Dev/superme-api/data/inputs/1.jpeg'),\n",
       " PosixPath('/Users/cfe/Dev/superme-api/data/inputs/8.png'),\n",
       " PosixPath('/Users/cfe/Dev/superme-api/data/inputs/9.png'),\n",
       " PosixPath('/Users/cfe/Dev/superme-api/data/inputs/14.png'),\n",
       " PosixPath('/Users/cfe/Dev/superme-api/data/inputs/6.jpeg'),\n",
       " PosixPath('/Users/cfe/Dev/superme-api/data/inputs/7.jpeg'),\n",
       " PosixPath('/Users/cfe/Dev/superme-api/data/inputs/12.png'),\n",
       " PosixPath('/Users/cfe/Dev/superme-api/data/inputs/13.png'),\n",
       " PosixPath('/Users/cfe/Dev/superme-api/data/inputs/11.png'),\n",
       " PosixPath('/Users/cfe/Dev/superme-api/data/inputs/10.png'),\n",
       " PosixPath('/Users/cfe/Dev/superme-api/data/inputs/4.jpeg'),\n",
       " PosixPath('/Users/cfe/Dev/superme-api/data/inputs/5.jpeg'),\n",
       " PosixPath('/Users/cfe/Dev/superme-api/data/inputs/2.jpeg'),\n",
       " PosixPath('/Users/cfe/Dev/superme-api/data/inputs/3.jpg')]"
      ]
     },
     "execution_count": 15,
     "metadata": {},
     "output_type": "execute_result"
    }
   ],
   "source": [
    "image_file_paths"
   ]
  },
  {
   "cell_type": "code",
   "execution_count": 19,
   "metadata": {},
   "outputs": [],
   "source": [
    "OUTPUTS_DIR.mkdir(exist_ok=True, parents=True)"
   ]
  },
  {
   "cell_type": "code",
   "execution_count": 20,
   "metadata": {},
   "outputs": [
    {
     "data": {
      "text/plain": [
       "False"
      ]
     },
     "execution_count": 20,
     "metadata": {},
     "output_type": "execute_result"
    }
   ],
   "source": [
    "zip_outpath = OUTPUTS_DIR / \"images.zip\"\n",
    "zip_outpath.exists()"
   ]
  },
  {
   "cell_type": "code",
   "execution_count": 23,
   "metadata": {},
   "outputs": [
    {
     "data": {
      "text/plain": [
       "PosixPath('/Users/cfe/Dev/superme-api/data/outputs/images')"
      ]
     },
     "execution_count": 23,
     "metadata": {},
     "output_type": "execute_result"
    }
   ],
   "source": [
    "zip_outpath.with_suffix('')"
   ]
  },
  {
   "cell_type": "code",
   "execution_count": 26,
   "metadata": {},
   "outputs": [],
   "source": [
    "with tempfile.TemporaryDirectory() as temp_dir:\n",
    "    for path in image_file_paths:\n",
    "        shutil.copy(path, temp_dir)\n",
    "    shutil.make_archive(zip_outpath.with_suffix(''), 'zip', temp_dir)"
   ]
  },
  {
   "cell_type": "code",
   "execution_count": null,
   "metadata": {},
   "outputs": [],
   "source": []
  }
 ],
 "metadata": {
  "kernelspec": {
   "display_name": "venv",
   "language": "python",
   "name": "python3"
  },
  "language_info": {
   "codemirror_mode": {
    "name": "ipython",
    "version": 3
   },
   "file_extension": ".py",
   "mimetype": "text/x-python",
   "name": "python",
   "nbconvert_exporter": "python",
   "pygments_lexer": "ipython3",
   "version": "3.13.0"
  }
 },
 "nbformat": 4,
 "nbformat_minor": 2
}
