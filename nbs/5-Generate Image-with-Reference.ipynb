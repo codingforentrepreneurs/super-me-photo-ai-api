{
 "cells": [
  {
   "cell_type": "code",
   "execution_count": 2,
   "metadata": {},
   "outputs": [],
   "source": [
    "import pathlib\n",
    "\n",
    "NBS_DIR = pathlib.Path().resolve()\n",
    "REPO_DIR = NBS_DIR.parent\n",
    "DATA_DIR = REPO_DIR / \"data\"\n",
    "GENERATED_DIR = DATA_DIR / \"generated\"\n",
    "GENERATED_DIR.mkdir(exist_ok=True, parents=True)\n",
    "REFERENCES_DIR = DATA_DIR / \"references\"\n",
    "REFERENCES_DIR.mkdir(exist_ok=True, parents=True)"
   ]
  },
  {
   "cell_type": "code",
   "execution_count": 3,
   "metadata": {},
   "outputs": [],
   "source": [
    "from decouple import config\n",
    "\n",
    "REPLICATE_API_TOKEN = config(\"REPLICATE_API_TOKEN\")\n",
    "REPLICATE_MODEL = config(\"REPLICATE_MODEL\", default=\"codingforentrepreneurs/superme-justin-v1\")\n",
    "REPLICATE_MODEL_VERSION = config(\"REPLICATE_MODEL_VERSION\", default=\"4bc2a39fa73d29cd531c57ad4f56bede13378ce3da2f6f517684b0b61bd192d7\")"
   ]
  },
  {
   "cell_type": "code",
   "execution_count": 4,
   "metadata": {},
   "outputs": [],
   "source": [
    "from replicate.client import Client\n",
    "\n",
    "replicate_client = Client(api_token=REPLICATE_API_TOKEN)"
   ]
  },
  {
   "cell_type": "code",
   "execution_count": 11,
   "metadata": {},
   "outputs": [],
   "source": [
    "reference_image_path = REFERENCES_DIR / \"spider-man.webp\"\n",
    "image = open(reference_image_path, 'rb')"
   ]
  },
  {
   "cell_type": "code",
   "execution_count": 12,
   "metadata": {},
   "outputs": [],
   "source": [
    "model = f\"{REPLICATE_MODEL}:{REPLICATE_MODEL_VERSION}\"\n",
    "prompt = \"a photo of TOK adult man dressed up as spider-man\"\n",
    "\n",
    "responses = replicate_client.run(\n",
    "    model,\n",
    "    input={\n",
    "        \"image\": image,\n",
    "        \"model\": \"dev\",\n",
    "        \"prompt\": prompt,\n",
    "        \"num_outputs\": 4,\n",
    "        \"output_format\": \"jpg\",\n",
    "    }\n",
    ")\n",
    "image.close()\n",
    "\n"
   ]
  },
  {
   "cell_type": "code",
   "execution_count": 13,
   "metadata": {},
   "outputs": [],
   "source": [
    "import random\n",
    "session_id = random.randint(1_000, 40_000)\n",
    "for i, output in enumerate(responses):\n",
    "    fname = f\"{i}-{session_id}.jpg\"\n",
    "    outpath = GENERATED_DIR / fname\n",
    "    with open(outpath, 'wb') as f:\n",
    "        f.write(output.read())"
   ]
  },
  {
   "cell_type": "code",
   "execution_count": null,
   "metadata": {},
   "outputs": [],
   "source": []
  }
 ],
 "metadata": {
  "kernelspec": {
   "display_name": "venv",
   "language": "python",
   "name": "python3"
  },
  "language_info": {
   "codemirror_mode": {
    "name": "ipython",
    "version": 3
   },
   "file_extension": ".py",
   "mimetype": "text/x-python",
   "name": "python",
   "nbconvert_exporter": "python",
   "pygments_lexer": "ipython3",
   "version": "3.13.0"
  }
 },
 "nbformat": 4,
 "nbformat_minor": 2
}
